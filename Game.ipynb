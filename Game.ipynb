{
 "cells": [
  {
   "cell_type": "code",
   "execution_count": null,
   "id": "b79c8582-0be6-4ca5-93c5-8d6741772815",
   "metadata": {},
   "outputs": [],
   "source": [
    "import cv2\n",
    "import numpy as np\n",
    "import random\n",
    "\n",
    "ball_radius = 30\n",
    "ball_position = [random.randint(ball_radius, 500-ball_radius),0]\n",
    "ball_velocity = [0,random.uniform(3,7)]\n",
    "\n",
    "while True:\n",
    "    ball_position[1] += ball_velocity[1]\n",
    "    if ball_position[1] >= 500-ball_radius:\n",
    "        ball_position = [random.randint(ball_radius, 500-ball_radius),0]\n",
    "        ball_velocity = [0,random.uniform(3,7)]\n",
    "    game_window = np.zeros((500,500,3), dtype=np.uint8)\n",
    "    cv2.circle(game_window, (int(ball_position[0]) ,int(ball_position[1])),ball_radius, (0,0,255), -1)\n",
    "    cv2.imshow('catch the ball', game_window)\n",
    "    if cv2.waitKey(1) & 0xFF == ord('q'):\n",
    "        break\n",
    "\n",
    "cv2.destroyAllWindows()"
   ]
  },
  {
   "cell_type": "code",
   "execution_count": null,
   "id": "74f7b978-f53b-4ad7-8755-b98de0d05f08",
   "metadata": {},
   "outputs": [],
   "source": []
  }
 ],
 "metadata": {
  "kernelspec": {
   "display_name": "Python 3 (ipykernel)",
   "language": "python",
   "name": "python3"
  },
  "language_info": {
   "codemirror_mode": {
    "name": "ipython",
    "version": 3
   },
   "file_extension": ".py",
   "mimetype": "text/x-python",
   "name": "python",
   "nbconvert_exporter": "python",
   "pygments_lexer": "ipython3",
   "version": "3.11.7"
  }
 },
 "nbformat": 4,
 "nbformat_minor": 5
}
